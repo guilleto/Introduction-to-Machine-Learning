{
  "nbformat": 4,
  "nbformat_minor": 0,
  "metadata": {
    "colab": {
      "provenance": [],
      "authorship_tag": "ABX9TyNPHWIejl50Ijl4TTkc/YEH",
      "include_colab_link": true
    },
    "kernelspec": {
      "name": "python3",
      "display_name": "Python 3"
    },
    "language_info": {
      "name": "python"
    }
  },
  "cells": [
    {
      "cell_type": "markdown",
      "metadata": {
        "id": "view-in-github",
        "colab_type": "text"
      },
      "source": [
        "<a href=\"https://colab.research.google.com/github/guilleto/Introduction-to-Machine-Learning/blob/main/Discord_bot.ipynb\" target=\"_parent\"><img src=\"https://colab.research.google.com/assets/colab-badge.svg\" alt=\"Open In Colab\"/></a>"
      ]
    },
    {
      "cell_type": "markdown",
      "source": [
        "Vamos a crear un bot de discord el cual lea el mensaje mediante una etiqueta y lo transforme utilizando la api gratis de Opanai (gpt 3)\n",
        "\n",
        "*Update:* Se ha cambiado el provedor de la ia a interpretar el prompt por temas de pricing y tokens, pasando de openapi a un itermediario Eden Ai"
      ],
      "metadata": {
        "id": "fDcsIAF3Nk35"
      }
    },
    {
      "cell_type": "markdown",
      "source": [
        "iniciamos instalando las dependencias necesarias"
      ],
      "metadata": {
        "id": "NiIJHLudN0Bo"
      }
    },
    {
      "cell_type": "code",
      "execution_count": 1,
      "metadata": {
        "colab": {
          "base_uri": "https://localhost:8080/"
        },
        "id": "7LMK9sEhNBuo",
        "outputId": "8ccc2e86-dac2-4fcb-d0e4-48859ae53822"
      },
      "outputs": [
        {
          "output_type": "stream",
          "name": "stdout",
          "text": [
            "Collecting discord.py\n",
            "  Downloading discord.py-2.3.2-py3-none-any.whl (1.1 MB)\n",
            "\u001b[?25l     \u001b[90m━━━━━━━━━━━━━━━━━━━━━━━━━━━━━━━━━━━━━━━━\u001b[0m \u001b[32m0.0/1.1 MB\u001b[0m \u001b[31m?\u001b[0m eta \u001b[36m-:--:--\u001b[0m\r\u001b[2K     \u001b[91m━━━━━━━\u001b[0m\u001b[90m╺\u001b[0m\u001b[90m━━━━━━━━━━━━━━━━━━━━━━━━━━━━━━━━\u001b[0m \u001b[32m0.2/1.1 MB\u001b[0m \u001b[31m5.3 MB/s\u001b[0m eta \u001b[36m0:00:01\u001b[0m\r\u001b[2K     \u001b[91m━━━━━━━━━━━━━━━━━━━━━━━━━━━━━━━━━━━━━━━\u001b[0m\u001b[91m╸\u001b[0m \u001b[32m1.1/1.1 MB\u001b[0m \u001b[31m16.4 MB/s\u001b[0m eta \u001b[36m0:00:01\u001b[0m\r\u001b[2K     \u001b[90m━━━━━━━━━━━━━━━━━━━━━━━━━━━━━━━━━━━━━━━━\u001b[0m \u001b[32m1.1/1.1 MB\u001b[0m \u001b[31m13.7 MB/s\u001b[0m eta \u001b[36m0:00:00\u001b[0m\n",
            "\u001b[?25hRequirement already satisfied: aiohttp<4,>=3.7.4 in /usr/local/lib/python3.10/dist-packages (from discord.py) (3.9.3)\n",
            "Requirement already satisfied: aiosignal>=1.1.2 in /usr/local/lib/python3.10/dist-packages (from aiohttp<4,>=3.7.4->discord.py) (1.3.1)\n",
            "Requirement already satisfied: attrs>=17.3.0 in /usr/local/lib/python3.10/dist-packages (from aiohttp<4,>=3.7.4->discord.py) (23.2.0)\n",
            "Requirement already satisfied: frozenlist>=1.1.1 in /usr/local/lib/python3.10/dist-packages (from aiohttp<4,>=3.7.4->discord.py) (1.4.1)\n",
            "Requirement already satisfied: multidict<7.0,>=4.5 in /usr/local/lib/python3.10/dist-packages (from aiohttp<4,>=3.7.4->discord.py) (6.0.5)\n",
            "Requirement already satisfied: yarl<2.0,>=1.0 in /usr/local/lib/python3.10/dist-packages (from aiohttp<4,>=3.7.4->discord.py) (1.9.4)\n",
            "Requirement already satisfied: async-timeout<5.0,>=4.0 in /usr/local/lib/python3.10/dist-packages (from aiohttp<4,>=3.7.4->discord.py) (4.0.3)\n",
            "Requirement already satisfied: idna>=2.0 in /usr/local/lib/python3.10/dist-packages (from yarl<2.0,>=1.0->aiohttp<4,>=3.7.4->discord.py) (3.6)\n",
            "Installing collected packages: discord.py\n",
            "Successfully installed discord.py-2.3.2\n",
            "Requirement already satisfied: nest_asyncio in /usr/local/lib/python3.10/dist-packages (1.6.0)\n",
            "Requirement already satisfied: requests in /usr/local/lib/python3.10/dist-packages (2.31.0)\n",
            "Requirement already satisfied: charset-normalizer<4,>=2 in /usr/local/lib/python3.10/dist-packages (from requests) (3.3.2)\n",
            "Requirement already satisfied: idna<4,>=2.5 in /usr/local/lib/python3.10/dist-packages (from requests) (3.6)\n",
            "Requirement already satisfied: urllib3<3,>=1.21.1 in /usr/local/lib/python3.10/dist-packages (from requests) (2.0.7)\n",
            "Requirement already satisfied: certifi>=2017.4.17 in /usr/local/lib/python3.10/dist-packages (from requests) (2024.2.2)\n",
            "\u001b[31mERROR: Could not find a version that satisfies the requirement json (from versions: none)\u001b[0m\u001b[31m\n",
            "\u001b[0m\u001b[31mERROR: No matching distribution found for json\u001b[0m\u001b[31m\n",
            "\u001b[0m"
          ]
        }
      ],
      "source": [
        "!pip install discord.py\n",
        "# !pip install openai\n",
        "!pip install nest_asyncio\n",
        "!pip install requests\n",
        "!pip install  json"
      ]
    },
    {
      "cell_type": "markdown",
      "source": [
        "Las importamos en el proyecto"
      ],
      "metadata": {
        "id": "rDbX7huTN6Sn"
      }
    },
    {
      "cell_type": "code",
      "source": [
        "import discord\n",
        "# from openai import OpenAI\n",
        "import nest_asyncio\n",
        "\n",
        "#request for https Eden Ai\n",
        "import requests\n",
        "import json"
      ],
      "metadata": {
        "id": "-Gi_FG52N5af"
      },
      "execution_count": 2,
      "outputs": []
    },
    {
      "cell_type": "markdown",
      "source": [
        "Configuramos las credenciales de **Openai** y **Discord**\n",
        "\n",
        "*Update:* **Openai** cambia a **Eden Ai**"
      ],
      "metadata": {
        "id": "W0O7CVAGN8po"
      }
    },
    {
      "cell_type": "code",
      "source": [
        "# Configurar la clave del bot de Discord\n",
        "DISCORD_TOKEN = 'dsaasd'\n",
        "\n",
        "# Configurar la clave de la API de OpenAI\n",
        "# clientOpenapi = OpenAI(api_key='asdads')\n",
        "\n",
        "url = \"https://api.edenai.run/v2/text/generation\"\n",
        "\n",
        "headers = {\n",
        "    \"Authorization\": \"Bearer asdasd\",\n",
        "    \"accept\": \"application/json\",\n",
        "    \"content-type\": \"application/json\"\n",
        "}\n"
      ],
      "metadata": {
        "id": "oyqiQtfcOGZX"
      },
      "execution_count": 7,
      "outputs": []
    },
    {
      "cell_type": "markdown",
      "source": [
        "Definimos la funcion que va a procesar los mensajes mediante nuestro bot\n"
      ],
      "metadata": {
        "id": "n50IlrBDVzGZ"
      }
    },
    {
      "cell_type": "code",
      "source": [
        "# Codigo para realizar la coneccion directamente con openApi pero ya no tengo tokens activos\n",
        "\n",
        "# def procesar_mensaje(mensaje):\n",
        "#     # Verificar si el mensaje comienza con el tag $magic_message\n",
        "#     if mensaje.startswith(\"$magic_message\"):\n",
        "#         # Eliminar el tag del mensaje\n",
        "#         texto = mensaje.replace(\"$magic_message\", \"\").strip()\n",
        "#         # Generar una respuesta mágica utilizando GPT\n",
        "#         respuesta = clientOpenapi.completions.create(\n",
        "#             # model=\"gpt-3.5-turbo-0301\",\n",
        "#             model=\"curie\",\n",
        "#             prompt=\"Crea un mensaje el cual este orientado en un mundo de fantasia en epoca medieval donde halla magia y creaturasmiticas y cosas por el estilo basandose en este mensaje base: \" + texto,\n",
        "#         )\n",
        "#         return respuesta.choices[0].text.strip()\n",
        "#     else:\n",
        "#         return None\n",
        "\n",
        "previous_history = []\n",
        "\n",
        "def procesar_mensaje(mensaje):\n",
        "    # Verificar si el mensaje comienza con el tag $magic_message\n",
        "    if mensaje.startswith(\"$magic_message\"):\n",
        "        texto = mensaje.replace(\"$magic_message\", \"\").strip()\n",
        "        prompt = \"Crea un mensaje el cual este orientado en un mundo de fantasia en epoca medieval donde halla magia y criaturas miticas y cosas por el estilo basandose en este mensaje: \" + texto\n",
        "\n",
        "        payload = {\n",
        "            \"providers\": \"openai\",\n",
        "            \"chatbot_global_action\": \"Actua como si estuvieras narrando una historia de fantasia\",\n",
        "            \"previous_history\": previous_history,\n",
        "            \"response_as_dict\": True,\n",
        "            \"attributes_as_list\": False,\n",
        "            \"show_original_response\": False,\n",
        "            \"temperature\": 0.5,\n",
        "            \"max_tokens\": 200,\n",
        "            \"text\": prompt,\n",
        "            \"fallback_providers\": \"\"\n",
        "        }\n",
        "        # Se manda peticion https post con el payload de configuracion\n",
        "        response = requests.post(url, json=payload, headers=headers)\n",
        "        # Guardar la informacion de la historia en la sesion\n",
        "        previous_history.append(response.text)\n",
        "        result = json.loads(response.text)\n",
        "\n",
        "        return result['openai']['generated_text']\n",
        "    else:\n",
        "        return None"
      ],
      "metadata": {
        "id": "vWSC1HvgV21p"
      },
      "execution_count": 4,
      "outputs": []
    },
    {
      "cell_type": "markdown",
      "source": [
        "Ponemos en funcionamiento el bot, para que escuche los eventos"
      ],
      "metadata": {
        "id": "lOKZ4xqqWFBA"
      }
    },
    {
      "cell_type": "code",
      "source": [
        "\n",
        "nest_asyncio.apply()\n",
        "\n",
        "# Especifica los intents que tu bot utilizará\n",
        "intents = discord.Intents.default()\n",
        "intents.typing = True\n",
        "intents.message_content = True\n",
        "intents.messages = True\n",
        "# Crea el cliente de Discord con los intents especificados\n",
        "client = discord.Client(intents=intents)\n",
        "\n",
        "\n",
        "\n",
        "\n",
        "@client.event\n",
        "async def on_message(message):\n",
        "    print(message)\n",
        "    if message.author == client.user:\n",
        "        return\n",
        "    print(\"contenido\")\n",
        "    print(message.content)\n",
        "    respuesta = procesar_mensaje(message.content)\n",
        "    if respuesta:\n",
        "        await message.channel.send(respuesta)"
      ],
      "metadata": {
        "colab": {
          "base_uri": "https://localhost:8080/"
        },
        "id": "CXDAg3NBWIWA",
        "outputId": "4f0ef086-c772-4e7e-dcc0-9ba1307a6266"
      },
      "execution_count": 5,
      "outputs": [
        {
          "output_type": "stream",
          "name": "stderr",
          "text": [
            "WARNING:discord.client:PyNaCl is not installed, voice will NOT be supported\n"
          ]
        }
      ]
    },
    {
      "cell_type": "markdown",
      "source": [
        "### Ejecutamos el bot para que este en linea"
      ],
      "metadata": {
        "id": "kadeylMsWM4o"
      }
    },
    {
      "cell_type": "code",
      "source": [
        "client.run(DISCORD_TOKEN)"
      ],
      "metadata": {
        "colab": {
          "base_uri": "https://localhost:8080/"
        },
        "id": "xmreO_zbWRIg",
        "outputId": "febe60d4-efbb-4692-b825-4c2142a0c0eb"
      },
      "execution_count": 6,
      "outputs": [
        {
          "output_type": "stream",
          "name": "stderr",
          "text": [
            "\u001b[30;1m2024-02-06 20:36:44\u001b[0m \u001b[34;1mINFO    \u001b[0m \u001b[35mdiscord.client\u001b[0m logging in using static token\n",
            "INFO:discord.client:logging in using static token\n",
            "\u001b[30;1m2024-02-06 20:36:45\u001b[0m \u001b[34;1mINFO    \u001b[0m \u001b[35mdiscord.gateway\u001b[0m Shard ID None has connected to Gateway (Session ID: 0546ef77d244e2b2218ddef0e571f576).\n",
            "INFO:discord.gateway:Shard ID None has connected to Gateway (Session ID: 0546ef77d244e2b2218ddef0e571f576).\n"
          ]
        },
        {
          "output_type": "stream",
          "name": "stdout",
          "text": [
            "<Message id=1204526282247905331 channel=<TextChannel id=349747192631918593 name='main' position=0 nsfw=True news=False category_id=None> type=<MessageType.default: 0> author=<Member id=329743127827054593 name='mrmemot' global_name='MrMemot' bot=False nick=None guild=<Guild id=349747192212226049 name='lolazos' shard_id=0 chunked=False member_count=89>> flags=<MessageFlags value=0>>\n",
            "contenido\n",
            "$magic_message <@213738160981671936> creo que ya quedó el generador de conversaciones, lo puse como una historia completa a ver qué tal\n",
            "<Message id=1204526299419254784 channel=<TextChannel id=349747192631918593 name='main' position=0 nsfw=True news=False category_id=None> type=<MessageType.default: 0> author=<Member id=1204463465633419275 name='Magician_snoop' global_name=None bot=True nick=None guild=<Guild id=349747192212226049 name='lolazos' shard_id=0 chunked=False member_count=89>> flags=<MessageFlags value=0>>\n",
            "<Message id=1204526463433580575 channel=<TextChannel id=349747192631918593 name='main' position=0 nsfw=True news=False category_id=None> type=<MessageType.default: 0> author=<Member id=329743127827054593 name='mrmemot' global_name='MrMemot' bot=False nick=None guild=<Guild id=349747192212226049 name='lolazos' shard_id=0 chunked=False member_count=89>> flags=<MessageFlags value=0>>\n",
            "contenido\n",
            "Está vivooooo\n",
            "<Message id=1204526520706670682 channel=<TextChannel id=349747192631918593 name='main' position=0 nsfw=True news=False category_id=None> type=<MessageType.default: 0> author=<Member id=329743127827054593 name='mrmemot' global_name='MrMemot' bot=False nick=None guild=<Guild id=349747192212226049 name='lolazos' shard_id=0 chunked=False member_count=89>> flags=<MessageFlags value=0>>\n",
            "contenido\n",
            "<:descarga:1128840501752250398>\n",
            "<Message id=1204529608561790986 channel=<TextChannel id=349747192631918593 name='main' position=0 nsfw=True news=False category_id=None> type=<MessageType.default: 0> author=<Member id=329743127827054593 name='mrmemot' global_name='MrMemot' bot=False nick=None guild=<Guild id=349747192212226049 name='lolazos' shard_id=0 chunked=False member_count=89>> flags=<MessageFlags value=0>>\n",
            "contenido\n",
            "!p sdfg\n",
            "<Message id=1204529609186611271 channel=<TextChannel id=349747192631918593 name='main' position=0 nsfw=True news=False category_id=None> type=<MessageType.reply: 19> author=<Member id=429457053791158281 name='Nekotina' global_name=None bot=True nick=None guild=<Guild id=349747192212226049 name='lolazos' shard_id=0 chunked=False member_count=89>> flags=<MessageFlags value=0>>\n",
            "contenido\n",
            ":NekoPout: Primero tienes que estar en un **canal de voz**.\n",
            "<Message id=1204530088780243014 channel=<TextChannel id=349747192631918593 name='main' position=0 nsfw=True news=False category_id=None> type=<MessageType.default: 0> author=<Member id=329743127827054593 name='mrmemot' global_name='MrMemot' bot=False nick=None guild=<Guild id=349747192212226049 name='lolazos' shard_id=0 chunked=False member_count=89>> flags=<MessageFlags value=0>>\n",
            "contenido\n",
            "$magic_message   <@405523467711152128> no ha jugado con nosotros está semana creo,  <@213738160981671936>   o si??\n",
            "<Message id=1204530108099067925 channel=<TextChannel id=349747192631918593 name='main' position=0 nsfw=True news=False category_id=None> type=<MessageType.default: 0> author=<Member id=1204463465633419275 name='Magician_snoop' global_name=None bot=True nick=None guild=<Guild id=349747192212226049 name='lolazos' shard_id=0 chunked=False member_count=89>> flags=<MessageFlags value=0>>\n"
          ]
        }
      ]
    }
  ]
}